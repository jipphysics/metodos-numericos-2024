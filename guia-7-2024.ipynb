{
 "cells": [
  {
   "cell_type": "markdown",
   "metadata": {},
   "source": [
    "# Métodos Numéricos (2024)\n",
    "\n",
    "## Guía 7: Ecuaciones Diferenciales Ordinarias"
   ]
  },
  {
   "cell_type": "code",
   "execution_count": null,
   "metadata": {},
   "outputs": [],
   "source": [
    "using Plots\n",
    "using LaTeXStrings"
   ]
  },
  {
   "cell_type": "markdown",
   "metadata": {},
   "source": [
    "## Problema 1\n",
    "\n",
    "Considere el problema de valores iniciales determinado por la Ecuación Diferencial Ordinaria (EDO)\n",
    "\n",
    "$$\n",
    "\\frac{dy}{dt}(t) = f(t,y(t),p),\\;\\;\\;\\;\\;\\; a\\leq t \\leq b\n",
    "$$\n",
    "\n",
    "y la condición inicial $y(a) = y_0$. Aquí $t$ denota la variable independiente (usualmente representando el tiempo), $y:[a,b]\\ni t\\to y(t)\\in \\mathbb{R}^n$ denota una trayectoria o solución de la ecuación (p. ej. la posición de una partícula) y $p$ un vector de parámetros de la EDO (ej. $p_1$ denota la constante gravitatoria, $p_2$ la masa de una partícula, etc.).\n",
    "\n",
    "Escriba funciones que permitan realizar **un paso de integración** de para una función arbitraria $f$ de acuerdo a los métodos de **Euler**, y Runge Kutta de 2° orden (**RK2**) y Runge Kutta de 4° orden (**RK4**).\n",
    "Las funciones deben admitir como argumentos: el lado derecho de la EDO $f$, el valor inicial $y_0$, el tiempo inicial $t_0=a$, el paso de integración $h$ (el paso de integración), y el vector de parámetros $p$. \n",
    "Cada función debe retornar el valor de la variable luego del paso de integración, es decir una aproximación $w$ a $y(t + h)$.\n",
    "\n",
    "Escriba otra función que permita hacer integrar de una trayectoria genérica en un intervalo $[a,b]$ arbitrario utilizando un método arbitrario para calcular un paso de integración. Esta función deberá admitir como argumentos, además de las anteriores ($f$, $y_0$, $t_0$ y $p$), la función que realiza un paso de integración.\n",
    "La función debe retornar dos vectores, uno con los valores $t_i = t_0 + i h$ y otro con los valores aproximados de $w_i \\approx y(t_i)$.\n",
    "\n",
    "**Ayuda:** Dejamos como ejemplo la implementación del método de Euler."
   ]
  },
  {
   "cell_type": "code",
   "execution_count": null,
   "metadata": {},
   "outputs": [],
   "source": [
    "\"\"\"\n",
    "    Euler(f,y0,t0,h)\n",
    "\n",
    "Hace un paso del método de Euler explícito: \n",
    "    f  : función que nos da la tangente como en (y,t,p)\n",
    "    y0 : y inicial\n",
    "    t0 : t inicial\n",
    "    h  : dt\n",
    "\n",
    "# Examples\n",
    "```julia-repl\n",
    "julia> \n",
    "function f(y,t)\n",
    "    return -y + sin(2π*t)\n",
    "end\n",
    "h= 0.1\n",
    "Euler(f,1,0,h)\n",
    "0.9\n",
    "```\n",
    "\"\"\"\n",
    "function Euler(f,y0,t0,h)\n",
    "    return y0 + h*f(y0,t0)\n",
    "end\n",
    "\n",
    "\"\"\"\n",
    "    Euler(f,y0,t0,h,p)\n",
    "\n",
    "Hace un paso del método de Euler explícito: \n",
    "    f  : función que nos da la tangente como en (y,t,p)\n",
    "    y0 : y inicial\n",
    "    t0 : t inicial\n",
    "    h  : dt\n",
    "    p  : parametros opcionales.\n",
    "\n",
    "# Examples\n",
    "```julia-repl\n",
    "julia> \n",
    "function f(y,t,p)\n",
    "    return -p[1]*y + sin(2π*t) + p[2]\n",
    "end\n",
    "h= 0.1\n",
    "Euler(f,1,0,h,[1,2])\n",
    "1.1\n",
    "```\n",
    "\"\"\"\n",
    "function Euler(f,y0,t0,h,p)\n",
    "    return y0 + h*f(y0,t0,p)\n",
    "end"
   ]
  },
  {
   "cell_type": "code",
   "execution_count": null,
   "metadata": {},
   "outputs": [],
   "source": [
    "# Test\n",
    "f(y,t,p) = -p[1]*y + sin(2π*t) + p[2]\n",
    "h = 0.1\n",
    "Euler(f,1,0,h,[1,2])"
   ]
  },
  {
   "cell_type": "markdown",
   "metadata": {},
   "source": [
    "## Problema 2\n",
    "\n",
    "Utilizando las funciones del **Problema 1** resuelva con los tres métodos dados en el teórico (Euler, RK2 y RK4) el siguiente problema de valores iniciales:\n",
    "$$\n",
    "\\frac{dy}{dt}(t) = -y(t)+\\sin(2\\pi t), \\;\\;\\;\\;\\;\\; 0 \\le t \\le 1\\; , \n",
    "\\;\\;\\;\\;\\; y(0) = 1.0\n",
    "$$\n",
    "en el intervalo $0 \\le t \\le 1$ con un paso de integración $h=0.1$. \n",
    "\n",
    "A modo de comparación, grafique la aproximación obtenida y la solución exacta: \n",
    "\n",
    "$$\n",
    "y_e(t)=\\Bigl(1+\\frac{2\\pi}{1+4\\pi^2}\\Bigr)e^{-t}+\\frac{\\sin(2\\pi t)-2\\pi\n",
    "    \\cos(2\\pi t)}{1+4\\pi^2},\n",
    "$$\n",
    "\n",
    "Grafique el error global, $\\epsilon(t) = |w(t)-y_e(t)|$ vs $t$."
   ]
  },
  {
   "cell_type": "code",
   "execution_count": null,
   "metadata": {},
   "outputs": [],
   "source": []
  },
  {
   "cell_type": "markdown",
   "metadata": {},
   "source": [
    "## Problema 3\n",
    "Considere el problema de valor inicial:\n",
    "$$\n",
    "\\frac{dy}{dt}(t) = \\sin{(y(t))},\\;\\;\\;\\;\\;\\; 0\\le t\\le 20.0, \\;\\;\\;\\;\\; y(0)=\\alpha\n",
    "$$\n",
    "Resuélvalo para los siguientes valores iniciales $\\alpha_1=0.5$, $\\alpha_2=2.0$, $\\alpha_3= \\pi$, $\\alpha_4=3.6$ $\\alpha_5=5.5$ y $\\alpha_6=2\\pi$, en todos los casos con $h=0.1$.\n",
    "Para este probolema, utilice sólo el método RK4.\n",
    "Luego grafique simultáneamente las seis curvas aproximadas a las soluciones de los seis problemas de valores iniciales (no olvide hacer un gráfico de calidad, completo). \n",
    "Analice."
   ]
  },
  {
   "cell_type": "code",
   "execution_count": null,
   "metadata": {},
   "outputs": [],
   "source": []
  },
  {
   "cell_type": "markdown",
   "metadata": {},
   "source": [
    "## Problema 4\n",
    "\n",
    "Siendo $g$ la acelaración de la gravedad, considere el problema de valores iniciales para la ecuación de la dinámica de un péndulo simple de longitud $l$\n",
    "\\begin{align}\n",
    "\\ddot{\\theta}(t) &=& - \\frac{g}{l} \\sin{(\\theta(t))}  \\hspace{5cm} (1)\n",
    "\\end{align}\n",
    "para $\\theta(0)=\\theta_0$, $\\dot{\\theta}(0)= \\dot{\\theta}_0$.\n",
    "Definiendo  $u= \\dot{\\theta}$ esta ecuación de segundo orden se puede escribir como un sistema de dos ecuaciones de primer orden\n",
    "\\begin{align}\n",
    "\\dot{\\theta}(t) &=& u(t) \\hspace{5cm} (2)\\\\\n",
    "\\dot{u}(t)      &=& - \\frac{g}{l} \\sin{(\\theta(t))}\n",
    "\\end{align}\n",
    "de condiciones iniciales $(\\theta(0),u(0))=(\\theta_0,\\dot{\\theta}_0)$.\n",
    "\n",
    "Analice numéricamente este sistema de ecuaciones diferenciales ordinarias acopladas para $g=10 m/s^2$ y $l=1 m$. Para ello:\n",
    "\n",
    "1. Implemente el método RK4 multidimensional.\n",
    "\n",
    "2. Usando el método anteriormente implementado y paso de integración $h=0.1$, calcule una solución numérica $\\theta(t)$ y $u(t)$ vs $t$ del sistema (2) para $0\\le t\\le 10$ y condiciones iniciales $\\theta(0)=0.25$ y $u(0)=0$.\n",
    "\n",
    "Note que $\\sin(\\theta) \\approx \\theta$ para ángulos pequeños. Luego, cuando $0<\\theta_0\\ll 1$, la ecución diferencial ordinaria (1) puede aproximarse por la del oscilador armónico\n",
    "\\begin{align}\n",
    "\\ddot{\\theta}(t) &=& - \\frac{g}{l} \\theta(t)  \\hspace{5cm} (3)\n",
    "\\end{align}\n",
    "la cual admite solución exacta $\\theta_e(t) = \\theta_0 \\cos(\\omega t)$ con $\\omega=\\sqrt{\\frac{g}{l}}$.\n",
    "\n",
    "3. Calcule una solución numérica aproximada $\\theta_a(t)$ y $u_a(t)$ vs $t$ de oscilador armónico usando las mismas condiciones iniciales que para el sistema (2).\n",
    "\n",
    "4. Calcule y grafique la diferencia $\\theta_e(t)-\\theta_a(t)$ vs $t$ para visualizar el error de la solución numérica del oscilador armónico. Que observa?\n",
    "\n",
    "5. Compare todas las soluciones graficando simultaneamente $\\theta(t)$, $u(t)$, $\\theta_a(t)$, $u_a(t)$, $\\theta_e(t)$ y $u_e(t)$ vs $t$.\n",
    "    \n",
    "6. Calcule y grafique simultaneamente la energía del sistema $E(t) = K(t) + U(t)$ utilizando:\n",
    "\n",
    "    a). La energía del sistema original con la solución numérica del sistema original.\n",
    "    \n",
    "    b). La energía del sistema original con la solución numérica del oscilador armónico.\n",
    "    \n",
    "    c). La energía del oscilador armónico con la solución numérica del oscilador armónico.\n",
    "    \n",
    "    d). La energía del oscilador armónico con la solución exacta del oscilador armónico.\n",
    "\n",
    "    Discuta lo observado.\n",
    "\n",
    "**Ayuda:** Note que $y,f(t,y)\\in \\mathbb{R}^2$ donde $y=(y_1,y_2)=(\\theta,u)$ y $f(t,y)=(f_1(t,y),f_2(t,y))$ con $f_1(t,y)=y_2$ y $f_2(t,y)=-\\frac{g}{l}\\sin(y_1)$."
   ]
  },
  {
   "cell_type": "code",
   "execution_count": null,
   "metadata": {},
   "outputs": [],
   "source": []
  },
  {
   "cell_type": "markdown",
   "metadata": {},
   "source": [
    "## Problema 5\n",
    "\n",
    "Considere el problema de estudiar la evolución de una epidemia, con el modelo **SIR**.\n",
    "Sea $S=$ población de individuos susceptibles, $I=$ población de individuos infectados y $R=$ población de individuos recuperados (que tienen inmunidad y no pueden volver a contagiarse).\n",
    "Entonces las ecuaciones diferenciales asociadas a la evolución temporal de dichas poblaciones son:\n",
    "\n",
    "\\begin{align}\n",
    "\\frac{d S}{d t}(t) &= -\\beta S(t) \\frac{I(t)}{N}\\\\\n",
    "\\frac{d I}{d t}(t) &= \\beta S(t) \\frac{I(t)}{N} - \\gamma I(t)\\\\\n",
    "\\frac{d R}{d t}(t) &= \\gamma I(t)\n",
    "\\end{align}\n",
    "\n",
    "donde $N=S(t)+I(t)+R(t)$ es la población total constante.\n",
    "\n",
    "1. Considere las condiciones iniciales: $N=1000$, $I_0=10$, $R_0=0$ y los parámetros $\\gamma = 0.1$ y  $\\beta = 0.5$.\n",
    " \n",
    "2. Utilice el método RK4 implementado en el **problema 4** para resolver este problema entre $t=0$ y $t=200$. \n",
    " \n",
    "3. Grafique la evolución temporal de las tres poblaciones, $S(t)$, $I(t)$ y $R(t)$ vs $t$ en el intervalo de $t$ calculado."
   ]
  },
  {
   "cell_type": "code",
   "execution_count": null,
   "metadata": {},
   "outputs": [],
   "source": []
  },
  {
   "cell_type": "markdown",
   "metadata": {},
   "source": [
    "# Problemas Complementarios"
   ]
  },
  {
   "cell_type": "markdown",
   "metadata": {},
   "source": [
    "## Problema C.1\n",
    "\n",
    "La llamada **ecuación logística**\n",
    "$$\n",
    "\\frac{dN}{dt}(t)= r\\,N(t) \\left(1-\\frac{N(t)}{K}\\right)\n",
    "$$\n",
    "describe el crecimiento autolimitado de una población dada (suponiendo que no\n",
    "interactúa con otras especies y que tiene fuentes limitadas de alimentos). Fue\n",
    "propuesta por Verhulst en 1838 y permite describir al menos cualitativamente\n",
    "varios fenómenos poblacionales observados en la naturaleza. En esta ecuación\n",
    "$N(t)$ es el número de individuos de la colonia al tiempo $t$ y $K$ es una\n",
    "constante positiva.\n",
    "\n",
    "Una solución $N^*$ se dice estacionaria si se satisface que $dN^*/dt=0$, y por\n",
    "ende no cambia en el tiempo. Para esta ecuación es fácil verificar que\n",
    "sólo existen dos soluciones estacionarias: $N_1^*=0$ y $N_2^*=K$.\n",
    "\n",
    "Determine cuál de las dos soluciones estacionarias es estable y cuál inestable\n",
    "resolviendo numéricamente la ecuación diferencial con el método\n",
    "Runge-Kutta de cuarto orden para $r=2$, $K=100$, en el intervalo $0\\le t \\le 50$\n",
    "con $h=0.1$ y considerando cinco condiciones iniciales diferentes: a) $N(0)= 0$,\n",
    "b) $N(0)=2$, c) $N(0)=50$, d) $N(0)= 120$ y d) $N(0)=200$.  Grafique\n",
    "simultáneamente las cinco soluciones $t$ vs.  $N(t)$ en el intevalo $0\\le t\\le\n",
    "50$ en un gráfico completo."
   ]
  },
  {
   "cell_type": "code",
   "execution_count": null,
   "metadata": {},
   "outputs": [],
   "source": []
  },
  {
   "cell_type": "markdown",
   "metadata": {},
   "source": [
    "## Problema C.2\n",
    "Use el método del disparo para resolver los siguientes problemas de \n",
    "frontera con una tolerancia de $10^{-5}$. Se da un valor tentativo inicial de $h$ \n",
    "y la solución exacta  para comparación.\n",
    " \n",
    "1. $1\\leq t\\leq 2$, comience con $h=0.5$\n",
    "$$\n",
    "\\ddot{x}(t)\\,=\\,-(\\dot{x}(t))^2 \\,,\\;\\;\\;x(1)=0\\;,\\;\\;x(2)=\\ln{(2)} \\,.\n",
    "$$\n",
    "Solución exacta $x(t)=\\ln{(t)}$.\n",
    "\n",
    "2. $-1\\leq t\\leq 0$, comience con $h=0.25$\n",
    "$$\n",
    "\\ddot{x}(t)\\,=\\,2 x^3(t)\\,,\\;\\;\\;x(-1)=\\frac{1}{2}\\;,\\;\\;x(0)=\\frac{1}{3} \\,.\n",
    "$$\n",
    "Solución exacta $x=1/(t+3)$.\n",
    "\n",
    "3. $1\\leq t\\leq 2$, comience con $h=0.05$\n",
    "$$\n",
    "\\ddot{x}(t)\\,=\\,\\frac{(t\\,\\dot{x}(t))^2\\,-9 x^2+4 t^6}{t^5},\\;\\;\\;x(1)=0\\;,\\;\\;x(2)=\\ln{(256)} \\,.\n",
    "$$\n",
    "Solución exacta $x(t)=t^3\\,\\ln{(t)}$.\n",
    "\n",
    "**Ayuda:** Considere las aproximaciones $x_a(t)$ con $x_a(t_0) = x_0$ y $\\dot{x}_a(t_0) = a$. Utilice el método de la bisección para encontrar la raíz de $F(a) := x_a(t_1) - x_1$."
   ]
  },
  {
   "cell_type": "code",
   "execution_count": null,
   "metadata": {},
   "outputs": [],
   "source": []
  },
  {
   "cell_type": "markdown",
   "metadata": {},
   "source": [
    "## Problema C.3\n",
    "**Método de Runge-Kutta de orden 4**\n",
    "\n",
    "Muestre que la elección dada en el teórico para los pesos $\\vec{b}$, los nodos $\\vec{c}$ y la matriz $A$ para el método RK4:\n",
    "\\begin{eqnarray}\n",
    "\\vec{b}&=&(1/6,1/3,1/3,1/6) \\\\\n",
    "\\vec{c}&=&(0,1/2,1/2,1) \\\\\n",
    "a_{2,1}&=&1/2 \\\\\n",
    "a_{3,2}&=&1/2 \\\\\n",
    "a_{4,3}&=&1\n",
    "\\end{eqnarray}\n",
    "conduce a las ecuaciones RK4 \"clásicas\" dadas en clase."
   ]
  },
  {
   "cell_type": "code",
   "execution_count": null,
   "metadata": {},
   "outputs": [],
   "source": []
  },
  {
   "cell_type": "markdown",
   "metadata": {},
   "source": [
    "## Problema C.4\n",
    "Considere la siguiente ecuación diferencial\n",
    "$$\n",
    "y^{\\prime \\prime} = \\frac{1}{8} \\left( 32 + 2 x^3 - y y' \\right)    \\qquad \\qquad \\mbox{para }\n",
    "1 \\le x \\le 3\n",
    "$$\n",
    "de solución $y:x\\to y(x)$.\n",
    "1. Utilice el método RK4 en el intervalo $1 \\le x\\le 3$ para resolver esta ecuación con las condiciones iniciales $y(1) = 17$, $y'(1) = 0$.\n",
    "Encuentre, además $y'(3)$.\n",
    "\n",
    "2. Repita el inciso anterior, pero con las condiciones iniciales $y(1) = 17$, $y'(1) = -40$.\n",
    "\n",
    "3. Resuelva la misma ecuación diferencial con las condiciones de borde $y(1) = 17$, $y' (3) = 0$ en $N=400$ puntos equiespaciados de $x\\in [1,3]$ usando el método de disparo. Para ello, combine el método de la bisección de tolerancia $10^{-10}$ con la información de los incisos anteriores. Grafique la solución $y$ y su derivada $y'$."
   ]
  },
  {
   "cell_type": "code",
   "execution_count": null,
   "metadata": {},
   "outputs": [],
   "source": []
  },
  {
   "cell_type": "markdown",
   "metadata": {},
   "source": [
    "## Problema C.5\n",
    "   \n",
    "El objeto de este problema es familiarizarse con el uso de una librería para resolver un sistema de ecuaciones diferenciales ordinarias multidimensionales. \n",
    "    Para ello les pedimos que reproduzca en su notebook el **ejemplo 2** de esta página: \n",
    "\n",
    "    https://docs.sciml.ai/DiffEqDocs/stable/getting_started/\n",
    "    \n",
    "Se trata del atractor de Lorenz, un sistema que excibe caos y que es una simplificación *extrema* de un problema de climatología. \n",
    "\n",
    "Luego de implementarlo, juegue cambiando las condiciones iniciales y/o parámetros. Cambie los métodos de integración. Esta librería tiene decenas de distintos métodos.\n",
    "\n",
    "**Nota:** Al comienzo tiene que poner: `using Plots, OrdinaryDiffEq`"
   ]
  },
  {
   "cell_type": "code",
   "execution_count": null,
   "metadata": {},
   "outputs": [],
   "source": [
    "# Para instalar el paquete \"OrdinaryDiffEq\" ejecute (demora un buen rato):\n",
    "import Pkg\n",
    "Pkg.add(\"OrdinaryDiffEq\")"
   ]
  },
  {
   "cell_type": "code",
   "execution_count": null,
   "metadata": {},
   "outputs": [],
   "source": [
    "using OrdinaryDiffEq"
   ]
  }
 ],
 "metadata": {
  "@webio": {
   "lastCommId": null,
   "lastKernelId": null
  },
  "kernelspec": {
   "display_name": "Julia 1.9.2",
   "language": "julia",
   "name": "julia-1.9"
  },
  "language_info": {
   "file_extension": ".jl",
   "mimetype": "application/julia",
   "name": "julia",
   "version": "1.9.2"
  }
 },
 "nbformat": 4,
 "nbformat_minor": 4
}
