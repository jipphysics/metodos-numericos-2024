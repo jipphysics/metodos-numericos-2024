{
 "cells": [
  {
   "cell_type": "markdown",
   "metadata": {},
   "source": [
    "# Métodos Numéricos 2024 "
   ]
  },
  {
   "cell_type": "markdown",
   "metadata": {},
   "source": [
    "## Guía 2: 2024-04-04 - Solución de ecuaciones de una variable"
   ]
  },
  {
   "cell_type": "code",
   "execution_count": null,
   "metadata": {},
   "outputs": [],
   "source": [
    "using Plots\n",
    "using LaTeXStrings\n",
    "using DataFrames # Recuerde instalar este paquete ingresando en una celda: using Pkg; Pkg.add(\"DataFrames\")"
   ]
  },
  {
   "cell_type": "markdown",
   "metadata": {},
   "source": [
    "### Problema 1\n",
    "\n",
    "Desarrolle un programa para encontrar la raíz de una función $f$ utilizando el **método de la bisección**.\n",
    "El programa debe tomar como datos de entrada:\n",
    "\n",
    "* la función $f:\\mathbb{R}\\to \\mathbb{R}$, \n",
    "\n",
    "* el intervalo inicial $[a,b]$, \n",
    "\n",
    "* la máxima tolerancia permitida $\\varepsilon_x$ al error relativo $(p-x)/x$ de la aproximación $p$ de la raíz $x$ de $f$ en $[a,b]$,\n",
    "\n",
    "* la máxima tolerancia permitida $\\varepsilon_f$ al valor de $|f(p)|$,\n",
    "\n",
    "* y el número máximo $n_{\\max}$ de iteraciones permitidas.\n",
    "\n",
    "El programa debe retornar una tupla con las siguientes componentes:\n",
    "\n",
    "* un booleano indicando si el algoritmo convergió o no dentro de las tolerancias máximas permitidas $\\varepsilon_x$ y $\\varepsilon_f$,\n",
    "\n",
    "* un vector de componentes $p_i$ que representan las aproximaciones a la raíz $x$ obtenidas por el algoritmo en sucesivas iteraciones $i=1,2,...,n$,\n",
    "\n",
    "* un vector de componentes $f_i=f(p_i)$,\n",
    "\n",
    "* un vector de componentes $c_i=|b_i-a_i|/2$ que representan cotas de los errores absolutos $|x-p_i|$,\n",
    "\n",
    "* y un vector de componentes $r_i=c_i/|p_i|$ que representan estimaciones de los errores relativos $|x-p_i|/|x|$.\n",
    "\n",
    "El programa debe deternerse si se cumple:\n",
    "\n",
    "$$\n",
    "(r_i<\\varepsilon_x \\;\\; \\text{AND} \\;\\; |f_i|<\\varepsilon_f) \\;\\; \\text{OR} \\;\\; i=n_{\\max}\n",
    "$$\n",
    "\n",
    "El programa debe trabajar con números de precisión suficientemente alta como para obtener resultados con 12 cifras significativas en los reales (ej. `Float64`).\n",
    "\n",
    "Con el programa desarrollado, Ud. debe:\n",
    "\n",
    "1. Encontrar una aproximación a $\\sqrt{3}$ con un error (relativo en $x$ y absoluto en $y$) menor a $10^{-5}$. Para ello: \n",
    "\n",
    "    * Note que $\\sqrt{3}$ es la raíz positiva de la ecuación $f(x)=x^2-3$.\n",
    "    * Grafique $f(x)$ vs $x$ en el intervalo $[1,2]$ para determinar que tiene una raíz allí.\n",
    "    * Utilice el programa desarrollado para calcular los vectores de aproximaciones y errores.\n",
    "    * Imprima una lista con los valores $i$, $p_i$, $f_i$, $c_i$ y $r_i$ para $i=1,...,n$, utilizando el paquete `DataFrames`.\n",
    "    * Grafique $p_i$ vs $i$ usando puntos (en vez de una línea contínua).\n",
    "    * Grafique $|f_i|$ vs $i$ usando puntos, escala logarítmica en el eje $y$ y lineal en el eje $x$.\n",
    "    * En una misma figura, grafique con puntos de un color los errores absolutos $c_i$ vs $i$ y con puntos de otro color los errores relativos $r_i$ vs $i$, utilizando escala logarítimica en el eje $y$ y lineal en el eje $x$. \n",
    "    * Responda: \n",
    "        * Cuanto vale la presunta mejor aproximación $p_n$? \n",
    "        * Cuántas iteraciones fueron necesarias?\n",
    "        * Cuales son los valores exactos de los errores absoluto y relativo que se obtienen de comparando el resultado $p_n$ con el \"analítico\"?   \n",
    "    \n",
    "2. Encontrar la menor solución positiva de la ecuación $g(x)=\\tan(x)-2x$ con un error relativo en $x$ y absoluto en $y$ menor a $10^{-5}$. Para ello, repita lo realizado en el inciso anterior considerando el intérvalo $x\\in [0.8,1.4]$, pero exceptuando el último item ya que no podemos calcular el valor analítico en este caso. \n",
    "\n",
    "**IMPORTANTE:** Recuerde poner títulos, etiquetas a los ejes y leyendas para las curvas o puntos de los gráficos."
   ]
  },
  {
   "cell_type": "code",
   "execution_count": null,
   "metadata": {},
   "outputs": [],
   "source": []
  },
  {
   "cell_type": "markdown",
   "metadata": {},
   "source": [
    "### Problema 2\n",
    "\n",
    "Desarrolle un programa para encontrar la raíz de una función $f$ utilizando el **método de Newton** (también conocido como Newton-Raphson).\n",
    "El programa debe tomar como datos de entrada la función $f:\\mathbb{R}\\to \\mathbb{R}$, su derivada $f':\\mathbb{R}\\to \\mathbb{R}$, una estimación inicial $p_1$ de la raíz $x$, la tolerancia $\\varepsilon_x$ a la estimación $r_i:=\\frac{|p_{i+1} - p_{i}|}{|p_{i+1}|}$ del error relativo $|x-p_i|/|x|$ en la iteración $i$ para $i=1,2,...,n$, la tolerancia en $\\varepsilon_f$ al valor absoluto de $f_i:=f(p_{i})$ y el número máximo de iteraciones permitido $n_{\\max}$.\n",
    "El programa debe retornar una tupla con las siguientes componentes:\n",
    "\n",
    "* Un booleano indicando si el algoritmo convergió.\n",
    "\n",
    "* Un vector de componentes $p_i$ para $i=1,2,...,n$, donde $n$ es el número de iteraciones realizado por el programa.\n",
    "\n",
    "* Un vector de valores $f_i:=f(p_i)$.\n",
    "\n",
    "* Un vector de estimaciones $c_i:=|p_{i+1}-p_i|$ de errores absolutos $|x-p_i|$.\n",
    "\n",
    "* Un vector de estimaciones $r_i:=c_i/|p_{i+1}|$ de errores relativos $|x-p_i|/|x|$.\n",
    "\n",
    "El programa debe finalizar en la iteración $n$-ésima que satisfaga por vez primera:\n",
    "$$\n",
    "\\left( r_n < \\varepsilon_x \\qquad \\text{AND} \\qquad \n",
    "f_n < \\varepsilon_f \\right) \\qquad \\text{OR} \\qquad\n",
    "n = n_{\\max}\n",
    "$$\n",
    "y debe poder utlizar 13 cifras significativas para las variables reales (ej. `Float64`).\n",
    "\n",
    "Utilice este programa para resolver los **incisos 1 y 2** del **problema 1**, usando $p_1=1$ en ambos casos. No hace falta graficar $f(x)$ vs $x$. Compare la cantidad de iteraciones $n$, la cantidad de evaluaciones de la función $f$ y su derivada $f'$ en los dos métodos."
   ]
  },
  {
   "cell_type": "code",
   "execution_count": null,
   "metadata": {},
   "outputs": [],
   "source": []
  },
  {
   "cell_type": "markdown",
   "metadata": {},
   "source": [
    "### Problema 3\n",
    "\n",
    "Compute y grafique en escala log-lineal el error relativo estimado $r_i:=|p_{i+1}-p_i|/|p_{i+1}|$ vs $i$ de las aproximaciones de $\\sqrt{3}$ con los métodos de la **bisección** y **Newton**, partiendo del intervalo $[0,2.5]$ y del valor inicial $p_1=2.5$, respectivamente. \n",
    "Utilice en ambos casos tolerancias $\\varepsilon_x=\\varepsilon_f=10^{-10}$."
   ]
  },
  {
   "cell_type": "code",
   "execution_count": null,
   "metadata": {},
   "outputs": [],
   "source": []
  },
  {
   "cell_type": "markdown",
   "metadata": {},
   "source": [
    "### Problema 4\n",
    "\n",
    "Un objeto en caída vertical en el aire está sujeto a la fuerza de gravedad y a la resistencia del aire. Si un objeto de masa $m$ es dejado caer desde una altura $h_0$, su altura luego de $t$ segundos está dada por:\n",
    "$$\n",
    "h(t) = h_0 - \\frac{mg}{k} t + \\frac{m^2 g}{k^2} \\left( 1 - e^{-kt/m}\\right)\n",
    "$$\n",
    "donde $g=9.8\\, m/s^2$ y $k$ representa el coeficiente de resistencia del aire en $kg / s$.\n",
    "Suponga que $h_0 = 10\\,m$, $m=0.1\\,kg$, y $k=0.149\\,kg/s$.\n",
    "\n",
    "Grafique $h(t)$ para analizar su comportamiento.\n",
    "\n",
    "Encuentre, con una precisión de $0.01\\,s$, el tiempo que le toma a este objeto llegar al suelo. \n",
    "Utilice el método de **bisección** y el de **Newton**."
   ]
  },
  {
   "cell_type": "code",
   "execution_count": null,
   "metadata": {},
   "outputs": [],
   "source": []
  },
  {
   "cell_type": "markdown",
   "metadata": {},
   "source": [
    "### Problema 5\n",
    "\n",
    "Encuentre la solución a la ecuación \n",
    "$$\n",
    "x - \\cos x = 0 \n",
    "$$\n",
    "en el intervalo $[0, \\pi/2]$ con un error relativo $\\varepsilon_x=10^{-10}$ utilizando:\n",
    "\n",
    "1. el método de la **secante** con $p_1=0.0$ y $p_2=\\pi/2$,\n",
    "\n",
    "2. el método de **regula falsi** con $a=0.0$ y $b=\\pi/2$,\n",
    "\n",
    "3. el método de **bisección** con $a=0.0$ y $b=\\pi/2$ y\n",
    "\n",
    "4. el método de **Newton** con $p_1=1$.\n",
    "\n",
    "Graficar el error relativo $r_i$ retornado por cada método vs el número de iteración $i$. Utilice las escalas log-lineal (es decir, logarítmica en el eje $y$ y lineal en el $x$)."
   ]
  },
  {
   "cell_type": "code",
   "execution_count": null,
   "metadata": {},
   "outputs": [],
   "source": []
  },
  {
   "cell_type": "markdown",
   "metadata": {},
   "source": [
    "### Problema 6\n",
    "\n",
    "Dado el siguiente polinomio, $p(x) = -10 + 5 x - 12 x^2  + 6 x^3  - 2 x^4  + x^5$.\n",
    "\n",
    "Grafique y observe que posee una única raíz real positiva. Encuentre la misma utilizando:\n",
    "\n",
    "1. El método de bisección. Elija el intervalo $[a,b]$ utilizando el **teorema de las cotas de Cauchy** que acota la región del espacio complejo donde se encuentran las raíces. Evalúe el polinomio utilizando el **algoritmo de Horner**.\n",
    "\n",
    "2. El método de Newton-Raphson. Elija el valor inicial utilizando los teoremas que acotan la región del espacio complejo donde se encuentran las raíces. Evalúe el polinomio y su derivada utilizando el **algoritmo de Horner**."
   ]
  },
  {
   "cell_type": "markdown",
   "metadata": {},
   "source": [
    "**Teorema de las cotas de Cauchy**\n",
    "\n",
    "Sea $p(x) = a_0 + a_1x + a_2x^2+...+a_nx^n$ un polinomio sobre $\\mathbb{C}$ de grado $n\\geq 1$ y coeficientes $a_i\\in \\mathbb{C}$ para $i=0,1,...,n$. Luego, todas las raices de $p$ se encuentran en el intervalo $[-(M+1),M+1]$ para $M = \\max\\left\\{\\frac{|a_0|}{|a_n|},\\frac{|a_0|}{|a_n|},...,\\frac{|a_{n-1}|}{|a_n|}\\right\\}$."
   ]
  },
  {
   "cell_type": "markdown",
   "metadata": {},
   "source": [
    "**Algoritmo de Horner**\n",
    "\n",
    "Cualquier polinomio\n",
    "$$\n",
    "p(x)=a_0+a_1x+a_2x^2+...+a_{n-1}x^{n-1}+a_nx^n\n",
    "$$\n",
    "puede ser reescrito como\n",
    "$$\n",
    "p(x)=a_0+x(a_1+x(a_2+...+x(a_{n-1}+xa_n)...))\n",
    "$$\n",
    "El algoritmo de Horner consiste en calcular $p(x)$ para un valor dado de $x$ sacando ventaja de la anterior expresión, ya que nos evita tener que calcular potencias $x^2, x^3, ..., x^n$ lo cual resulta numericamente costozo y tendiente a introducir errores numéricos indeseables.\n",
    "Notar que\n",
    "$$\n",
    "p'(x)=a_1+2a_2x+3a_3x^2+...+(n-1)a_{n-1}x^{n-2}+na_nx^{n-1}\n",
    "$$\n",
    "lo cual se reduce a\n",
    "$$\n",
    "p'(x)=a_1+x(2a_2+x(3a_3+...+x((n-1)a_{n-1}+xna_n))+...)))\n",
    "$$"
   ]
  },
  {
   "cell_type": "code",
   "execution_count": null,
   "metadata": {},
   "outputs": [],
   "source": []
  },
  {
   "cell_type": "markdown",
   "metadata": {},
   "source": [
    "## Ejercicios Complementarios"
   ]
  },
  {
   "cell_type": "markdown",
   "metadata": {},
   "source": [
    "### Problema C.1\n",
    "\n",
    "Cree una función para calcular una aproximación a la raíz cúbica $x=R^{1/3}$ de un número $R$ positivo. La función debe tomar como entrada el número $R$, la aproximación inicial $x_0$, el error máximo permitido $\\epsilon$, y debe utilizar el algoritmo de de Newton-Raphson para calcular la raíz. Ponga a prueba la función con $R=40$, $x_0=20$ y $\\epsilon=10^{-5}$"
   ]
  },
  {
   "cell_type": "code",
   "execution_count": null,
   "metadata": {},
   "outputs": [],
   "source": []
  }
 ],
 "metadata": {
  "@webio": {
   "lastCommId": null,
   "lastKernelId": null
  },
  "kernelspec": {
   "display_name": "Julia 1.7.2",
   "language": "julia",
   "name": "julia-1.7"
  },
  "language_info": {
   "file_extension": ".jl",
   "mimetype": "application/julia",
   "name": "julia",
   "version": "1.7.2"
  }
 },
 "nbformat": 4,
 "nbformat_minor": 4
}
