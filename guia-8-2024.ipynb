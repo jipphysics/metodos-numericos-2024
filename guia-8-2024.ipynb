{
 "cells": [
  {
   "cell_type": "markdown",
   "metadata": {},
   "source": [
    "# Métodos Numéricos (2024)\n",
    "\n",
    "## Guía 8: Algebra lineal "
   ]
  },
  {
   "cell_type": "code",
   "execution_count": null,
   "metadata": {},
   "outputs": [],
   "source": [
    "using Plots\n",
    "using LaTeXStrings\n",
    "using LinearAlgebra"
   ]
  },
  {
   "cell_type": "markdown",
   "metadata": {},
   "source": [
    "## Problema 1\n",
    "\n",
    "Resuelva el siguiente sistema:\n",
    "\n",
    "$$\n",
    "\\left(\\begin{array}{rrr}\n",
    "2 & -1 \\\\\n",
    "1 & 4 \n",
    "\\end{array}\\right) \\begin{pmatrix}\n",
    "x_1 \\\\ x_2 \n",
    "\\end{pmatrix} = \\begin{pmatrix}\n",
    "8 \\\\ -5\n",
    "\\end{pmatrix} \n",
    "$$\n",
    "\n",
    "utlizando el método de Jacobi en forma matricial, haciendo dos iteraciones a partir de\n",
    "$(x_1^0 = 0$, $x_2^0 = 0)$. \n",
    "\n",
    "Complete la siguiente tabla con los \n",
    "resultados parciales\n",
    "\n",
    "| iter. $k$ | $x_1^k$         |  $x_2^k$       | $\\|x_1^k - x_1^{k-1}\\|$ | $\\|x_2^k- x_2^{k-1}\\|$      |\n",
    "|-----------|----------|----------|--------|--------|\n",
    "| 1 |       |  |  |  |\n",
    "| 2 | | | |\n",
    "| 3 | | | |"
   ]
  },
  {
   "cell_type": "markdown",
   "metadata": {},
   "source": [
    "## Problema 2\n",
    "\n",
    "Desarrolle un programa que implemente el método de Jacobi para resolver el sistema lineal $Ax = b$. Los datos de entrada deben ser la matríz $A$, el vector $b$, un valor inicial para la iteración, la tolerancia $\\delta$ y el número máximo permitido de iteraciones. Los dos últimos valores deben tener valores por defecto de `tol=1e-8` y `n_max = 100`, respectivamente.\n",
    "\n",
    "Para cada iteración, el programa debe imprimir en pantalla el número $k$ de iteración y el valor de la norma $\\|x^k - x^{k-1}\\|_1$, donde $x^k$ es la $k$-ésima aproximación del vector solución $x$. La norma 1 de un vector $v$ de componentes $v_i$ se define como\n",
    "\n",
    "$$\n",
    "\\|v\\|_1 = \\sum_{i=1}^N |v_i|\n",
    "$$\n",
    "\n",
    "El programa debe detenerse cuando alcanza el número máximo de iteraciones o si se cumple la condición: $\\|x^k - x^{k-1}\\|_1 \\le \\delta$. Además, debe retornar la última aproximación obtenida $x^k$."
   ]
  },
  {
   "cell_type": "markdown",
   "metadata": {},
   "source": [
    "## Problema 3\n",
    "\n",
    "Aplique el programa desarrollado para resolver, mediante el método de Jacobi, \n",
    "el sistema de ecuaciones $Ax = b$ con\n",
    "\n",
    "$$\n",
    "A=\\left(\\begin{array}{rrrrrr}\n",
    "4 & -1 & 0 & -1 & 0 & 0\\\\\n",
    "-1 & 4 & -1 & 0 & -1 & 0\\\\\n",
    "0 & -1 & 4 & 0 & 0 & -1\\\\\n",
    "-1 & 0 & 0 & 4 & -1 & 0\\\\\n",
    "0 & -1 & 0 & -1 & 4 & -1\\\\ \n",
    "0 & 0 & -1 & 0 & -1 & 4\n",
    "\\end{array} \\right) \\hspace{0.5cm} b=\\left(\\begin{array}{c}\n",
    "1 \\\\ 1 \\\\ 1 \\\\ 0 \\\\ 0 \\\\ 0\n",
    "\\end{array} \\right) \\hspace{1cm} \\text{y también} \\hspace{0.5cm} b=\\left(\\begin{array}{c}\n",
    "1 \\\\ 1 \\\\ 1 \\\\ 1 \\\\ 1 \\\\ 1\n",
    "\\end{array} \\right)\n",
    "$$\n",
    "\n",
    "Para el primero debería obtener valores aproximados a\n",
    "\n",
    " `x = [0.41614906474397173, 0.5093167655367743, 0.41614906474397173, 0.15527949981785383, 0.20496893903789484, 0.15527949981785383]`"
   ]
  },
  {
   "cell_type": "markdown",
   "metadata": {},
   "source": [
    "## Problema 4\n",
    "\n",
    "Desarrolle una función similar al del problemas 1, pero utilizando ahora el método de Gauss--Seidel.\n",
    "Luego, aplique el programa para resolver  los siguientes sistemas:\n",
    "\n",
    "1.\n",
    "$$\n",
    "\\begin{array}{lllllll}\n",
    "0.0001 x_1 &+& x_2 &=& 1 \\\\\n",
    "x_1 &+&  x_2 &=& 2\n",
    "\\end{array}\n",
    "$$\n",
    "\n",
    "2.\n",
    "$$\n",
    "\\begin{array}{lllllll}\n",
    "3.03 x_1 &-&12.1 x_2&+&14 x_3 &=& -119 \\\\\n",
    "-3.03 x_1 &+&12.1 x_2&+&7 x_3 &=& 120  \\\\\n",
    "6.11 x_1 &-&14.2 x_2&+&21 x_3 &=& -139\n",
    "\\end{array}\n",
    "$$\n",
    "\n"
   ]
  },
  {
   "cell_type": "markdown",
   "metadata": {},
   "source": [
    "## Problema 5\n",
    "\n",
    "Resuelva con papel y lápiz (o en una celda en formato Markdown y LaTeX) el sistema $Ax = b$, donde\n",
    "\n",
    "$$\n",
    "A = \\left( \n",
    "\\begin{array}{cc}\n",
    "1000 & 999 \\\\\n",
    "999 & 998 \n",
    "\\end{array} \\right) , \\qquad\n",
    "x = \\left( \n",
    "\\begin{array}{c}\n",
    "x_1 \\\\\n",
    "x_2 \n",
    "\\end{array} \\right) , \\qquad\n",
    "b = \\left( \n",
    "\\begin{array}{c}\n",
    "1999 \\\\\n",
    "1997 \n",
    "\\end{array} \\right)\n",
    "$$\n",
    "\n",
    "\n",
    "Resuelva nuevamente utilizando los métodos de Jacobi y Gauss-Seidel desarrollados.\n",
    "¿Convergen?"
   ]
  },
  {
   "cell_type": "markdown",
   "metadata": {},
   "source": [
    "## Problema 6\n",
    "\n",
    "Decida si los métodos de Jacobi y/o Gauss-Seidel son aplicables para resolver los siguientes sistemas de ecuaciones. En cada caso afirmativo calcule las soluciones, en el caso **a)** con $\\delta = 10^{-11}$, en el caso **b)** con  $\\delta = 10^{-4}$. ¿Cuántas iteraciones son necesarias en cada caso para alcanzar la precisión deseada?\n",
    "\n",
    "**a)**\n",
    "$$\n",
    "\\left(\\begin{array}{ccc}\n",
    "3 & 1 & 1\\\\\n",
    "2 & 6 & 1\\\\\n",
    "1 & 1 & 4\n",
    "\\end{array} \\right) \\left(\\begin{array}{c} x_1 \\\\ x_2 \\\\ x_3 \\end{array} \\right)\n",
    "= \\left(\\begin{array}{c} 5 \\\\ 9 \\\\ 6 \\end{array} \\right),\n",
    "$$ \n",
    "\n",
    "**b)**\n",
    "$$\n",
    "\\left(\\begin{array}{cccc}\n",
    "5 & 7 & 6 & 5\\\\\n",
    "7 & 10 & 8 & 7\\\\\n",
    "6 & 8 & 10 & 9\\\\\n",
    "5 & 7 & 9 & 10\n",
    "\\end{array} \\right) \\left(\\begin{array}{c} x_1 \\\\ x_2 \\\\ x_3 \\\\ x_4 \\end{array} \\right)\n",
    "= \\left(\\begin{array}{c} 23 \\\\ 32 \\\\ 33 \\\\ 31 \\end{array} \\right)\n",
    "$$\n",
    "\n"
   ]
  },
  {
   "cell_type": "markdown",
   "metadata": {},
   "source": [
    "## Problema C.1\n",
    "\n",
    "\n",
    "Modifique el programa que implementa el método de Jacobi para que\n",
    "guarde en las sucesivas filas de una matriz los sucesivos los valores de las\n",
    "iteraciones $\\vec{x}^s$. Utilizando este programa resuelva el sistema con\n",
    "\n",
    "$$\n",
    "A = \\left(\\begin{array}{cc}\n",
    "2 & 1\\\\\n",
    "3 & 6\n",
    "\\end{array}\\right) \\hspace{1cm} b = \\left(\\begin{array}{c}\n",
    "8 \\\\ 21 \n",
    "\\end{array}\\right)\n",
    "$$\n",
    "\n",
    "con los distintos valores iniciales\n",
    "\n",
    "**a)**\n",
    "$$\n",
    "x^0 = \\left(\\begin{array}{c}\n",
    "1 \\\\ 4 \n",
    "\\end{array}\\right)\n",
    "$$\n",
    "\n",
    "**b)**\n",
    "$$\n",
    "x^0 = \\left(\\begin{array}{c}\n",
    "1 \\\\ 0\n",
    "\\end{array}\\right)\n",
    "$$\n",
    "\n",
    "**c)**\n",
    "$$\n",
    "x^0 = \\left(\\begin{array}{c}\n",
    "5 \\\\ 2 \n",
    "\\end{array}\\right) \n",
    "$$\n",
    "Finalmente grafique los puntos de las sucesiones de iteraciones obtenidas."
   ]
  },
  {
   "cell_type": "markdown",
   "metadata": {},
   "source": [
    "## Problema C.2\n",
    "\n",
    "Repita todos los problemas anteriores usando la librería de Julia de álgebra lineal `LinearAlgebra` usando el operador `\\` (ejemplo, `x = A\\b`). Vea que funciona en todos los casos considerados en la guía."
   ]
  }
 ],
 "metadata": {
  "@webio": {
   "lastCommId": null,
   "lastKernelId": null
  },
  "kernelspec": {
   "display_name": "Julia 1.10.2",
   "language": "julia",
   "name": "julia-1.10"
  },
  "language_info": {
   "file_extension": ".jl",
   "mimetype": "application/julia",
   "name": "julia",
   "version": "1.10.2"
  }
 },
 "nbformat": 4,
 "nbformat_minor": 4
}
