{
 "cells": [
  {
   "cell_type": "markdown",
   "metadata": {},
   "source": [
    "# Métodos Numéricos (2024)\n",
    "\n",
    "## Guía 5: 2024-05-07 - Derivadas"
   ]
  },
  {
   "cell_type": "code",
   "execution_count": null,
   "metadata": {},
   "outputs": [],
   "source": [
    "using Plots\n",
    "using LaTeXStrings"
   ]
  },
  {
   "cell_type": "markdown",
   "metadata": {},
   "source": [
    "## Problema 1\n",
    "\n",
    "\n",
    "Defina una función, que, dada una función, un punto y un intervalo, retorne una aproximación a la derivada de la función dada, evaluada en el punto dado, utilizando la fórmula de diferencias finitas que se deriva de la siguiente aproximación (*fórmula centrada de tres puntos*): \n",
    "\n",
    "\n",
    "$$\n",
    "f^\\prime(x) = \\frac{f(x+h) - f(x-h)}{2h} + \\mathcal{O}(h^2)\n",
    "$$\n",
    "\n",
    "Utilize dicha función para evaluar la derivada de la función $f(x) = x e^x$ en el punto $x=2$\n",
    "para distintos valores de $h$ y calcule el incremento óptimo $h_o$ teniendo en cuenta los errores de truncamiento y redondeo. \n",
    "Usando la diferencia entre $f'(2)$ (calculado en Julia usando las funciones matemáticas incorporadas) y el valor de la aproximación mencionada, grafique en escala *log-log* el error versus $h$ para $h = 10^{-k}$ con $k$ entero."
   ]
  },
  {
   "cell_type": "code",
   "execution_count": null,
   "metadata": {},
   "outputs": [],
   "source": []
  },
  {
   "cell_type": "markdown",
   "metadata": {},
   "source": [
    "## Problema 2\n",
    "\n",
    "Para funciones $f(x)$ que son suficientemente diferenciables en $x=c$\n",
    "\n",
    "1. Muestre que se  puede aproximar $f'(c)$ con la *fórmula centrada de 5 puntos*\n",
    "$$\n",
    "D_5f(c) := \\,\\frac{1}{12 h} \\left(f(c-2 h)-8 f(c-h)+8 f(c+h)-f(c+2 h)\n",
    "\\right)\n",
    "$$\n",
    "\n",
    "\n",
    "2. Muestre que la aproximación es exacta para polinomios de grado $\\le 4$.\n",
    "*Ayuda:* calcule explícitamente el término expresado como $O(h^4)$ en la ecuación siguiente, usando una expansión en serie de Taylor alrededor de $x=c$ de todas las evaluaciones de la función que aparecen en la fórmula para $D_5f(c)$.\n",
    "\n",
    "$$\n",
    "f'(c)\\,=\\,\\frac{1}{12 h} \\left(f(c-2 h)-8 f(c-h)+8 f(c+h)-f(c+2 h)\n",
    "\\right)\\,+\\,O(h^4)\n",
    "$$"
   ]
  },
  {
   "cell_type": "markdown",
   "metadata": {},
   "source": []
  },
  {
   "cell_type": "markdown",
   "metadata": {},
   "source": [
    "## Problema 3\n",
    "\n",
    "1. Implemente el cálculo aproximado de las derivadas de una función arbitraria utilizando las fórmulas *i) hacia adelante de 2 puntos*, *ii) centrada de 3 puntos* y *iii) centrada de 5 puntos*.\n",
    "\n",
    "2. Aplíquelas para obtener los valores aproximados de las derivadas de $f(x)=\\cos x$ y $g(x)=e^x$.\n",
    "\n",
    "3. Haga un gráfico *log-log* del error relativo $E$ vs $h$ para $h\\in [\\epsilon_m(x),0.1]$ y $x=0.1, 1, 100$. Aquí $\\epsilon_m(x)$ es la precisión de la máquina al valor $x$.\n",
    "\n",
    "4. Verifique si el número de cifras decimales que obtiene coincide con las estimaciones presentadas en el téorico.\n",
    "\n",
    "5. Identifique las regiones donde domina el error del algoritmo y el error de redondeo, respectivamente. Las pendientes que se observan, corresponden a las predichas en el teórico?"
   ]
  },
  {
   "cell_type": "code",
   "execution_count": null,
   "metadata": {},
   "outputs": [],
   "source": []
  },
  {
   "cell_type": "markdown",
   "metadata": {},
   "source": [
    "## Problema 4\n",
    "\n",
    "En el archivo `pos.dat` que se encuentra en el repositorio se dispone de un conjunto de datos experimentales de la posición de un móvil que se desplaza en línea recta. El mismo tiene dos columnas, siendo la primera el tiempo de la medición, $t_i$ y la segunda la posición, $x(t_i)$.\n",
    "\n",
    "1. Escriba un programa que lea los datos del archivo y calcule la velocidad del móvil para los mismos tiempos, $t_i$. Utilice la fórmula de 3 puntos. Preste especial atención a los puntos de los bordes del intervalo.\n",
    "2. Repita el punto 1. utilizando las fórmulas de 5 puntos."
   ]
  },
  {
   "cell_type": "markdown",
   "metadata": {},
   "source": [
    "**Ayuda:** Para bajar el archivo `pos.dat` del repositorio de github desde julia realice:"
   ]
  },
  {
   "cell_type": "code",
   "execution_count": null,
   "metadata": {},
   "outputs": [],
   "source": [
    "# Ejemplo de como bajar un archivo.\n",
    "separador = \"/\" # En Linux\n",
    "#separador = \"\\\" # En Windows\n",
    "download(\n",
    "    \"https://raw.githubusercontent.com/reula/Metodos_Numericos_2022/main/Guias/pos.dat\", # Bajamos el archivo pos.dat del repositorio en el que están las guías.\n",
    "    pwd() * separador * \"pos.dat\" # Guardamos lo bajado en un archivo llamado pos.dat en el directorio local.\n",
    ")"
   ]
  },
  {
   "cell_type": "markdown",
   "metadata": {},
   "source": [
    "1. **Notar que Windows usa `\"\\\"` en vez de `\"/\"`.**\n",
    "\n",
    "2. Cuando entre a github a ver los links a los archivos, seleccione primero el archivo, cuando se visualice selecione el botón **Raw**. Fíjese que el link debe comenzar con https://raw.githubusercontent.com"
   ]
  },
  {
   "cell_type": "markdown",
   "metadata": {},
   "source": [
    "**Ayuda:** Para cargar los datos en `pos.dat` a vectores de Julia utilice:"
   ]
  },
  {
   "cell_type": "code",
   "execution_count": null,
   "metadata": {},
   "outputs": [],
   "source": [
    "t = Vector{Float64}()\n",
    "x = Vector{Float64}()\n",
    "open(\"pos.dat\",\"r\") do fh\n",
    "    for line in readlines(fh) \n",
    "        cols = split(line)\n",
    "        push!(t,parse(Float64,cols[1]))\n",
    "        push!(x,parse(Float64,cols[2]))\n",
    "    end\n",
    "end"
   ]
  },
  {
   "cell_type": "code",
   "execution_count": null,
   "metadata": {},
   "outputs": [],
   "source": []
  },
  {
   "cell_type": "markdown",
   "metadata": {},
   "source": [
    "# Ejercicios Complementarios"
   ]
  },
  {
   "cell_type": "markdown",
   "metadata": {},
   "source": [
    "## Problema C.1\n",
    "\n",
    "**Derivada segunda:** Deduzca la fórmula centrada equiespaciada de tres puntos para la derivada segunda $f''(x_0)$. Incluya una cota para el error absoluto."
   ]
  },
  {
   "cell_type": "code",
   "execution_count": null,
   "metadata": {},
   "outputs": [],
   "source": []
  },
  {
   "cell_type": "markdown",
   "metadata": {},
   "source": [
    "## Problema C.2\n",
    "\n",
    "**Interpolación y diferenciación:** Se conoce el valor de $f(x)$ en tres puntos $x_0,x_1,x_2$. Escriba el polinomio interpolante $P_2(x)$ en la forma de Lagrange. Asuma que aproximamos $f'(x_i)$ por $P_2'(x_i)$,\n",
    "\n",
    "1. Muestre que si tomamos $x_0=c-h,\\,x_1=c,\\,x_2=c+h$ obtenemos la expresión del algoritmo centrado de tres\n",
    "puntos para $f'(c)$. \n",
    "2. Muestre que, en general, esta proximación arroja el algoritmo de tres puntos. Reobtenga la fórmula dada en el teórico para $x_0=c-h_1,\\,x_1=c,\\,x_2=c+h_2$. Obtenga una expresión para las derivadas en extremos del intervalo $[a,b]$, $f'(a)$ con $x_0=a,\\,x_1=a+h,\\,x_2=a+2 h$ y $f'(b)$ con $x_0=b,\\,x_1=b-h,\\,x_2=b-2h$.\n",
    "3. Generalice a 5 puntos y re-obtenga el algoritmo centrado y equiespaciado en este caso."
   ]
  },
  {
   "cell_type": "code",
   "execution_count": null,
   "metadata": {},
   "outputs": [],
   "source": []
  }
 ],
 "metadata": {
  "@webio": {
   "lastCommId": null,
   "lastKernelId": null
  },
  "kernelspec": {
   "display_name": "Julia 1.8.5",
   "language": "julia",
   "name": "julia-1.8"
  },
  "language_info": {
   "file_extension": ".jl",
   "mimetype": "application/julia",
   "name": "julia",
   "version": "1.8.5"
  },
  "latex_envs": {
   "LaTeX_envs_menu_present": true,
   "autoclose": false,
   "autocomplete": true,
   "bibliofile": "biblio.bib",
   "cite_by": "apalike",
   "current_citInitial": 1,
   "eqLabelWithNumbers": true,
   "eqNumInitial": 1,
   "hotkeys": {
    "equation": "Ctrl-E",
    "itemize": "Ctrl-I"
   },
   "labels_anchors": false,
   "latex_user_defs": false,
   "report_style_numbering": false,
   "user_envs_cfg": false
  }
 },
 "nbformat": 4,
 "nbformat_minor": 4
}
