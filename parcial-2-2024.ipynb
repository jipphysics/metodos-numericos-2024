{
 "cells": [
  {
   "cell_type": "markdown",
   "id": "85ccecc1",
   "metadata": {},
   "source": [
    "# Metodos Numéricos 2024\n",
    "\n",
    "## Parcial 2\n",
    "\n",
    "Fecha de entrega: 2024-05-13\n",
    "\n",
    "### Nombre(s):\n",
    "\n",
    "Poner aquí su/s nombre/s, appelido/s y DNI/s:\n",
    "\n",
    "* Federico Carrasco, 30.111.222\n",
    "* Juan Perotti, 30.111.222\n",
    "\n",
    "### Nota sobre la programación en Julia\n",
    "\n",
    "Recuerde que su notebook tiene que poder ser entendida por otra persona. Para ello:\n",
    "\n",
    "* Cuando crea conveniente, use texto Markdown para desarrollar o comentar una idea.\n",
    "\n",
    "* Agregue comentarios a su código de ser necesario.\n",
    "\n",
    "* Realice gráficos que tengan etiquetas en los ejes y leyendas para cada curva o serie de puntos graficados, como así también un título apropiado.\n",
    "\n",
    "* Procure respetar reglas de buena programación:\n",
    "\n",
    "    * Use **sangrías** adecuadamente (recuerde el concepto de **alcance** o **scope**).\n",
    "\n",
    "    * Cuando sea posible, implemente funciones de caracter general, en vez de código específico a cada problema, facilitando así la reutilización de código.\n",
    "\n",
    "    * Implemente funciones que tengan los argumentos necesarios para su buen funcionamiento.    "
   ]
  },
  {
   "cell_type": "markdown",
   "id": "41dd25ba",
   "metadata": {},
   "source": [
    "## Problema 1\n",
    "\n",
    "\n",
    "### Contexto físico\n",
    "\n",
    "Un problema central en la física y la química es la interacción a la que están sometidas dos partículas neutras separadas por una distancia $r$, ya sean átomos o moléculas. Se sabe que en el límite de gran separación, entre ella actúa una ténue fuerza atractiva, en tanto a pequeñas distancias actúa una fuerza respulsiva, resultante de la superposición de los orbitales electrónicos, conocida como *repulsión de Pauli*. \n",
    "\n",
    "En 1924, el matemático inglés Sir Edward Lennard-Jones propuso la expresión de un potencial efectivo para modelar esta interacción, la cual es muy utilizada en diversas áreas de la física y la química, por ejemplo en el estudio de la materia condensada, y recibe el nombre de **Potencial de Lennard-Jones**.\n",
    "\n",
    "La expresión matemática de dicho potencial es la siguiente:\n",
    "$$\n",
    "V(r) = 4\\,\\epsilon \\, \\left[ \\left(\\frac{\\sigma}{r}\\right)^{12} - \n",
    "         \\left(\\frac{\\sigma}r{} \\right)^{6} \\right]\n",
    "$$\n",
    "Aquí, el parámetro $\\varepsilon$ representa la profundidad del potencial (o sea, su valor mínimo), en tanto $\\sigma$ representa la distancia a la cual el potencial entre las dos partículas es cero.\n",
    "\n",
    "Los datos incluidos en el archivo adjunto `datos.dat` corresponden a las mediciones del potencial de Lennard-Jones entre los átomos que conforman un dímero en argón líquido. \n",
    "El archivo tiene dos columnas. La primera corresponde a variable independiente $r$, que es la distancia entre los átomos del dímero y la segunda columna corresponde a la medición de la energía potencial $V(r)$ de Lennard-Jones. La distancia $r$ tiene unidades de `nm` y el potencial de `erg`.\n",
    "\n",
    "El argón líquido tiene múltiples aplicaciones científicas e industriales, tales como soldaduras por arco de gas (también conocidas como soldaduras MIG), para enfriamiento criogénico, o sea, para enfriar dispositivos y materiales a temperaturas extremadamente bajas, cercanas al cero absoluto, en la física de altas energías para enfriar los detectores de partículas y para la crioconservación de células y tejidos, entre otras muchas aplicaciones."
   ]
  },
  {
   "cell_type": "markdown",
   "id": "818dbfd9",
   "metadata": {},
   "source": [
    "### Enunciados \n",
    "\n",
    "1. Considerando los datos del archivo `datos.dat`:\n",
    "\n",
    "    1. Lea y cargue los datos a vectores.\n",
    "    \n",
    "    2. Grafique la energía potencial de Lennard-Jones, $V(r)$, en función de la distancia $r$ entre los átomos del dímero. \n",
    "    \n",
    "    2. Describa cualitativamente el comportamiento del potencial y las consecuencias físicas en el comportamiento clásico del dímero.\n",
    "\n",
    "2. Usando el paquete `LsqFit`:\n",
    "\n",
    "    1. Ajuste los datos con la función que define el potencial de Lennard-Jones para los parámetros $\\varepsilon$ y $\\sigma$.\n",
    "    \n",
    "    2. Presente los parametros obtenidos con sus respectivos errores. **Ayuda:** use la función `stderror`.\n",
    "    \n",
    "    3. Grafique simultáneamente los datos del archivo con la curva del ajuste.\n",
    "\n",
    "3. Usando el ajuste:   \n",
    "\n",
    "    1. Construya una grilla en la variable $r$ entre $r_{min}=0.36$ nm y $r_{max}=0.75$ nm de paso $\\Delta r=0.005$. Con estos valores:\n",
    "        \n",
    "    2. Calcule los valores de $V(r)$.\n",
    "    \n",
    "    3. Calcule y evalúe la expresión analítica de la derivada $\\frac{dV}{dr}(r)$.    \n",
    "    \n",
    "    4. Calcule numéricamente la derivada $\\frac{dV}{dr}(r)$ vs $r$, usando la fórmula centrada de tres puntos. **Ayuda:** ojo con los extremos! Emplear en ellos una fórmula apropiada.\n",
    "\n",
    "    5. Utilizando lo calculado, calcule el error absoluto de la derivada numérica.\n",
    "    \n",
    "    6. Calcule el error relativo de la derivada numérica.\n",
    "\n",
    "    7. Grafique la derivada analíticamente obtenida del potencial de Lennard-Jones y en el mismo gráfico la aproximación numérica.\n",
    "    \n",
    "    8. Grafique el error absoluto en función de $r$.\n",
    "    \n",
    "    9. Grafique el error relativo en función de $r$.\n",
    "\n",
    "    10. A partir de estimar una cota para la derivada tercera del potencial en el intervalo [$0.37$ nm, $0.74$ nm], calcule una cota del error para la derivada centrada de tres puntos en dicho intervalo y compare con los errores obtenidos. Tenga en cuenta que para $h=\\Delta r$ se puede despreciar el error de redondeo. Comente los resultados.\n",
    "\n",
    "4. Infiera el valor del potencial de Lennard-Jones en el punto no medido $r_0=0.4375$ nm. \n",
    "\n",
    "    1. Hagalo usando tres métodos de interpolaciones diferentes:\n",
    "\n",
    "        1. Usando cuatro (4) puntos, los dos más próximos a la derecha y los dos más próximos a la izquierda del punto $r_0$.\n",
    "        2. Usando ocho (8) puntos, los cuatro más próximos a la derecha y los cuatro próximos a la izquierda del punto $r_0$.\n",
    "        3. Usando todos los puntos medidos.\n",
    "\n",
    "    2. Resuma los resultados obtenidos con cada uno de los tres casos usando una tabla del paquete `DataFrames` que incluya las columnas:\n",
    "    \n",
    "       * Método utilizado.\n",
    "       * El valor de la aproximación en $r_0$.\n",
    "       * El error relativo de la aproximación, utilizando como resultado exacto el valor de la función $V(r)$ con los parámetros del ajuste en $r=r_0$.\n",
    "\n",
    "    3. Comente los resultados obtenidos.\n",
    "\n",
    "5. Usando el método de Lagrange:\n",
    "    \n",
    "    1. Interpole las mediciones del potencial de Lennard-Jones del archivo `datos.dat` entre $r_{min}=0.32$ nm y $r_{max}=0.75$ nm con un paso $\\Delta r=0.005$. \n",
    "    \n",
    "    2. Grafique el polinomio interpolante en todo el intervalo de datos del archivo, junto con la funcion $V(r)$ resultante del ajuste. \n",
    "    \n",
    "    3. Comente los resultados."
   ]
  },
  {
   "cell_type": "code",
   "execution_count": null,
   "id": "a21bd844",
   "metadata": {},
   "outputs": [],
   "source": [
    "# Importamos librerias necesarias para trabajar\n",
    "using Plots\n",
    "using LaTeXStrings\n",
    "using DataFrames\n",
    "using LsqFit"
   ]
  },
  {
   "cell_type": "markdown",
   "id": "7032fe6f",
   "metadata": {},
   "source": [
    "### Rta 1."
   ]
  },
  {
   "cell_type": "code",
   "execution_count": null,
   "id": "805d2981",
   "metadata": {},
   "outputs": [],
   "source": []
  },
  {
   "cell_type": "markdown",
   "id": "f26e977e",
   "metadata": {},
   "source": [
    "### Rta 2."
   ]
  },
  {
   "cell_type": "code",
   "execution_count": null,
   "id": "9e64fac8",
   "metadata": {},
   "outputs": [],
   "source": []
  },
  {
   "cell_type": "markdown",
   "id": "5ba8b3ca",
   "metadata": {},
   "source": [
    "### Rta 3."
   ]
  },
  {
   "cell_type": "code",
   "execution_count": null,
   "id": "1250532a",
   "metadata": {},
   "outputs": [],
   "source": []
  },
  {
   "cell_type": "markdown",
   "id": "9d72d520",
   "metadata": {},
   "source": [
    "### Rta 4."
   ]
  },
  {
   "cell_type": "code",
   "execution_count": null,
   "id": "8599ee8d",
   "metadata": {},
   "outputs": [],
   "source": []
  },
  {
   "cell_type": "markdown",
   "id": "62a063e0",
   "metadata": {},
   "source": [
    "### Rta 5."
   ]
  },
  {
   "cell_type": "code",
   "execution_count": null,
   "id": "63744962",
   "metadata": {},
   "outputs": [],
   "source": []
  }
 ],
 "metadata": {
  "kernelspec": {
   "display_name": "Julia 1.10.1",
   "language": "julia",
   "name": "julia-1.10"
  },
  "language_info": {
   "file_extension": ".jl",
   "mimetype": "application/julia",
   "name": "julia",
   "version": "1.10.1"
  }
 },
 "nbformat": 4,
 "nbformat_minor": 5
}
