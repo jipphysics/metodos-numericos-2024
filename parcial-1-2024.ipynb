{
 "cells": [
  {
   "cell_type": "markdown",
   "id": "85ccecc1",
   "metadata": {},
   "source": [
    "# Metodos Numéricos 2024\n",
    "\n",
    "## Parcial 1\n",
    "\n",
    "Fecha de entrega: 2024-04-18\n",
    "\n",
    "### Nombre(s):\n",
    "\n",
    "Poner aquí su/s nombre/s, appelido/s y DNI/s:\n",
    "\n",
    "* Fede, Carrasco, 30,111,222\n",
    "* Juan, Perotti, 30,111,222\n",
    "\n",
    "### Nota sobre la programación en Julia\n",
    "\n",
    "Recuerde que su notebook tiene que poder ser entendida por otra persona. Para ello:\n",
    "\n",
    "* Cuando crea conveniente, use texto Markdown para desarrollar o comentar una idea.\n",
    "\n",
    "* Agregue comentarios a su código de ser necesario.\n",
    "\n",
    "* Realice gráficos que tengan etiquetas en los ejes y leyendas para cada curva o serie de puntos graficados, como así también un título apropiado.\n",
    "\n",
    "* Procure respetar reglas de buena programación:\n",
    "\n",
    "    * Use **sangrías** adecuadamente (recuerde el concepto de **alcance** o **scope**).\n",
    "\n",
    "    * Cuando sea posible, implemente funciones de caracter general, en vez de código específico a cada problema, facilitando así la reutilización de código.\n",
    "\n",
    "    * Implemente funciones que tengan los argumentos necesarios para su buen funcionamiento.    "
   ]
  },
  {
   "cell_type": "markdown",
   "id": "f1d12745",
   "metadata": {},
   "source": [
    "## Problema 1\n",
    "\n",
    "Para cada uno de los métodos iterativos: **bisección**, **secante** y **Newton**, utilice buenas prácticas de programación y doble precisión (i.e. `Float64`) para escribir una función de **Julia** que permita obtener una aproximación numérica a una raíz de cierta función $f(x)$. \n",
    "Los argumentos de entrada de cada función deberán ser los siguientes:\n",
    "\n",
    "* una aproximación inicial a la raíz buscada, dada por un intervalo $[a,b]$ o un valor $p_1$, o incluso un valor de $p_2$, según corresponda para cada método,\n",
    "* la tolerancia $\\varepsilon_x$ en $x$,\n",
    "* la tolerancia $\\varepsilon_f$ en $f(x)$,\n",
    "* y el número máximo de iteraciones $n_{\\max}$.\n",
    "\n",
    "Los métodos deben detenerse cuando el error relativo en $x$ sea menor que $\\varepsilon_x$ **y** el error absoluto en $y$ sea menor a $\\varepsilon_f$, **ó** cuando el número de iteraciones $i$ alcance el valor $n_{\\max}$. \n",
    "\n",
    "Las funciones deben retornar una tupla con los siguientes valores:\n",
    "\n",
    "* un **booleano** indicando si el método convergió o no,\n",
    "* un vector de entradas $p_1,p_2,...,p_n$ con las sucesivas aproximaciones calculadas,\n",
    "* un vector de entradas $f_1,f_2,...,f_n$ con los valores $f_i=f(p_i)$ de $f$ en las aproximaciones calculadas,\n",
    "* un vector de entradas $c_1,c_2,...,c_n$ con estimaciones o cotas de los errores absolutos (ej. $c_i=|p_{i+1}-p_i|\\approx |x-p_i|$),\n",
    "* y un vector de entradas $r_1,r_2,...,r_n$ con estimaciones de los errores relativos (ej. $r_i=c_i/|p_{i+1}|\\approx |x-p_i|/|x|$).\n",
    "\n",
    "1.  Grafique la función a la cual deseamos encontrarle la raiz\n",
    "$$\n",
    "f(x)= \\cos\\bigg(x^2-\\frac{1}{2}\\bigg)\n",
    "$$\n",
    "en el intervalo $[0,2]$.\n",
    "\n",
    "2. Con cada una de las funciones implementadas, encuentre estimaciones a la raíz de la función mencionada en el inciso anterior usando $a=1.0$, $b=1.6$, $p_1=1.3$, $\\varepsilon_x=10^{-7}$, $\\varepsilon_f=10^{-8}$ y $n_{\\max}=100$, según corresponda.\n",
    "\n",
    "3. Ponga los resultados de cada método en una tabla usando el paquete `DataFrames` (i.e. una tabla por cada método). Cada tabla debe poseer las columnas $i$, $p_i$, $f_i$, $c_i$ y $r_i$.\n",
    "\n",
    "\n",
    "4. En una misma figura, grafique simultáneamente para los tres métodos el error relativo en $x$ en función del número de iteración. En otras palabras, grafique $r_i$ vs $i$. Use escala lineal en el eje $x$ y logarítmica en el eje $y$.\n",
    "\n",
    "5. En una celda de tipo LaTeX, comente los resultados obtenidos. En particular, explique en detalle porqué se observan diferentes comportamientos para los errores de los tres métodos (recuerde lo aprendido en el teórico)."
   ]
  },
  {
   "cell_type": "code",
   "execution_count": null,
   "id": "a21bd844",
   "metadata": {},
   "outputs": [],
   "source": [
    "# Importamos librerias necesarias para trabajar\n",
    "using Plots\n",
    "using LaTeXStrings\n",
    "using DataFrames"
   ]
  },
  {
   "cell_type": "code",
   "execution_count": null,
   "id": "c7d5dfc6",
   "metadata": {},
   "outputs": [],
   "source": [
    "# 1)"
   ]
  }
 ],
 "metadata": {
  "kernelspec": {
   "display_name": "Julia 1.10.1",
   "language": "julia",
   "name": "julia-1.10"
  },
  "language_info": {
   "file_extension": ".jl",
   "mimetype": "application/julia",
   "name": "julia",
   "version": "1.10.1"
  }
 },
 "nbformat": 4,
 "nbformat_minor": 5
}
