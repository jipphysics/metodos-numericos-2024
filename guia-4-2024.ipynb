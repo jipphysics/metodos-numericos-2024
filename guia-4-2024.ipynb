{
 "cells": [
  {
   "cell_type": "markdown",
   "metadata": {},
   "source": [
    "# Métodos Numéricos 2024"
   ]
  },
  {
   "cell_type": "markdown",
   "metadata": {},
   "source": [
    "## Guía 4: 2024-05-02 - Ajuste por Cuadrados Mínimos"
   ]
  },
  {
   "cell_type": "code",
   "execution_count": null,
   "metadata": {},
   "outputs": [],
   "source": [
    "using Plots\n",
    "using LaTeXStrings\n",
    "using DataFrames\n",
    "using CSV\n",
    "using LsqFit\n",
    "using LinearAlgebra"
   ]
  },
  {
   "cell_type": "markdown",
   "metadata": {},
   "source": [
    "###  Problema 1 \n",
    "\n",
    "Escriba una función de Julia que permita encontrar la mejor recta que aproxime un conjunto de $n$ puntos utilizando el **método de cuadrados mínimos**.\n",
    "La función tiene que tomar como argumentos dos vectores que contengan las coordenadas $x_i$ e $y_i$ de los $n$ puntos.\n",
    "La función debe retornar una tupla $(a_0,a_1)$ con los coeficientes $a_0$ y $a_1$ de la recta $y(x) = a_0 + a_1 x$ que ajusta los puntos."
   ]
  },
  {
   "cell_type": "code",
   "execution_count": null,
   "metadata": {},
   "outputs": [],
   "source": []
  },
  {
   "cell_type": "markdown",
   "metadata": {},
   "source": [
    "### Problema 2 : Ajuste de una recta\n",
    "\n",
    "Utilice el programa del problema anterior para ajustar por cuadrados mínimos los datos del ejemplo $1$ del teórico. Grafique, junto con la recta obtenida, los puntos originales cuyas coordenadas se proveen en la siguiente tabla.\n",
    "\n",
    "\n",
    "| $x_i$ | $y_i$ |\n",
    "| ---   | ---   |\n",
    "| $1$   | $1,3$ |\n",
    "| $2$   | $3,5$ |\n",
    "| $3$   | $4,2$ |\n",
    "| $4$   | $5,0$ |\n",
    "| $5$   | $7,0$ |\n",
    "| $6$   | $8,8$ |\n",
    "| $7$   | $10,1$|\n",
    "| $8$   | $12,5$|\n",
    "| $9$   | $13,0$|\n",
    "| $10$  | $15,6$|"
   ]
  },
  {
   "cell_type": "code",
   "execution_count": null,
   "metadata": {},
   "outputs": [],
   "source": []
  },
  {
   "cell_type": "markdown",
   "metadata": {},
   "source": [
    "### Problema 3 : Paquete `LsqFit`\n",
    "\n",
    "Utilice el paquete de Julia `LsqFit` para ajustar los datos del **Problema 2**. Para ello, \n",
    "\n",
    "* defina la función de ajuste,\n",
    "* y proporcione valores iniciales para los parámetros de ajuste.\n",
    "\n",
    "En este caso, serán $a_0$ y $a_1$ los parámetros que a ajustar para minimizar la diferencia entre la función y los datos experimentales.\n",
    "Comparar resultados con los obtenidos en el **Problema 2**. Para ello, grafique los puntos, y el ajuste con `LsqFit` y, nuevamente, el ajuste del **Problema 2**."
   ]
  },
  {
   "cell_type": "code",
   "execution_count": null,
   "metadata": {},
   "outputs": [],
   "source": []
  },
  {
   "cell_type": "markdown",
   "metadata": {},
   "source": [
    "### Problema 4 : Ajuste de modelo lineal\n",
    "\n",
    "Supongamos que tenemos una serie de datos $\\{x_i,y_i:i=1,...,n\\}$ y que queremos ajustar un modelo $f$ definido por\n",
    "\n",
    "$$\n",
    "f(x,p) = p_1f_1(x)+p_2f_2(x)+...+p_mf_m(x)\n",
    "$$\n",
    "\n",
    "donde $f_1,f_2,...,f_m$ son algunas funciones de $x$ y $p_1,...,p_m$ son parámetros correspondientementes. Notar que $f$ depende linealmente de los parámetros. En particular, siempre se elige $f_1(x)=1$.\n",
    "\n",
    "El Error Cuadrático\n",
    "\n",
    "$$\n",
    "d(p) = \\sum_{i=1}^n (f(x_i,p)-y_i)^2\n",
    "$$\n",
    "\n",
    "es una medida de distancia que cuantifica cuán bien (o mal) la función $f$ ajusta los datos para cada elección de los parámetros. Su minimización con respecto al vector $p$ permite encontrar el ajuste óptimo. Las condiciones que determinan el valor de $p$ que minimiza $d$ pueden expresarse como un sistema lineal de $m$ ecuaciones para $m$ incógnitas (ver la derivación teórica abajo) \n",
    "$$\n",
    "Ap = b\n",
    "$$\n",
    "\n",
    "\n",
    "1. Cargue los datos provistos en el archivo `cuadratica.dat` en dos vectores $x$ e $y$, y luego grafíquelos utilizando puntos.\n",
    "\n",
    "2. Con dichos vectores, calcule la matriz $A$ y el vector $b$ para el caso particular en que $f_1(x) = 1$, $f_2(x) = x$ y $f_3(x) = x^2$.\n",
    "\n",
    "3. Utilice $A$ y $b$ para encontrar el mejor ajuste $p$, y grafique el modelo ajustado junto a los datos.\n",
    "\n",
    "4. Calcule la estimación de los errores de los parámetros ajustados (ver teoría abajo).\n",
    "\n",
    "5. Repita el ajuste usando el paquete `LsqFit` y compare resultados."
   ]
  },
  {
   "cell_type": "markdown",
   "metadata": {},
   "source": [
    "### Teoría\n",
    "\n",
    "##### Ajuste\n",
    "\n",
    "Notar que el EC puede reescribirse matricialmente como\n",
    "\n",
    "$$\n",
    "d(p) = \\sum_{i=1}^n (f(x_i,p)-y_i)^2 = (Fp-y)'(Fp-y) = |Fp-y|^2\n",
    "$$\n",
    "\n",
    "donde $p'=(p_1,p_2,...,p_m)$ es la forma traspuesta del vector $p$, $F$ es una matriz de $\\mathbb{R}^{n\\times m}$ de entradas $F_{ij} = f_j(x_i)$ e $y'=(y_1,...,y_n)$.\n",
    "\n",
    "La construcción de dicha expresión matricial puede visualzarse facilmente de notar que buscamos el $p$ tal que\n",
    "\n",
    "\\begin{eqnarray}\n",
    "p_1f_1(x_1)+...+p_mf_m(x_1) &\\approx& y_1 \\\\\n",
    "... && \\\\\n",
    "p_1f_1(x_n)+...+p_mf_m(x_n) &\\approx& y_n \\\\\n",
    "\\end{eqnarray}\n",
    "\n",
    "Si $p$ minimiza globalmente a $d$, luego \n",
    "$$\n",
    "\\lim_{\\epsilon \\to 0} \\frac{d(p+\\epsilon q)-d(p)}{\\epsilon}=0\n",
    "$$\n",
    "para todo vector $q$, o equivalentemente $(\\nabla d)(p)=0$. Por otro lado, si bien la proposición recíproca no es generalmente cierta, la función a minimizar es una expresión cuadrática respecto de los parámetros en $p$, por lo que la condición $(\\nabla d)(p)=0$ **sí** garantiza que $p$ sea mínimo global de $d$.\n",
    "\n",
    "Para calcular el gradiente, reescribimos $d(p)$ (ver [1])\n",
    "\n",
    "\\begin{eqnarray}\n",
    "d(p) &=& (Fp-y)'(Fp-y) \\\\\n",
    "&=& (p'F'-y')(Fp-y) \\\\\n",
    "&=& p'F'Fp - p'F'y - y'Fp + y'y \\\\\n",
    "\\end{eqnarray}\n",
    "\n",
    "De esta manera, es fácil ver que (ver [2])\n",
    "\n",
    "\\begin{eqnarray}\n",
    "\\lim_{\\epsilon\\to 0}\n",
    "\\frac{d(p+\\epsilon q)-d(p)}{\\epsilon}\n",
    "&=&\n",
    "q'F'Fp + p'F'Fq - q'F'y - y'Fq\n",
    "\\\\\n",
    "&=&\n",
    "q'(F'Fp-F'y) + (p'F'F-y'F)q\n",
    "\\\\\n",
    "&=&\n",
    "q'c + c'q\n",
    "\\\\\n",
    "\\end{eqnarray}\n",
    "\n",
    "donde $F'$ es la traspuesta de $F$ y $c = F'Fp-F'y$.\n",
    "Luego, $q'c + c'q=0$ se satisface para todo $q$ si y sólo si $c=0$, o equivalentemente, si y sólo si\n",
    "\n",
    "$$\n",
    "F'Fp=F'y\n",
    "$$\n",
    "\n",
    "Este es un sistema de ecuaciones lineales para $p$, \n",
    "\n",
    "$$\n",
    "Ap=b\n",
    "$$\n",
    "\n",
    "donde $A:=F'F$ y $b:=F'y$.\n",
    "\n",
    "Como comentario final, si las columnas de $F$ son linealmente independientes (típicamente lo son), luego $A=F'F$ es invertible y, por ende, $p=A^{-1}b=(F'F)^{-1}F'y$.\n",
    "Aquí, $F^+:=(F'F)^{-1}F'$ es la denominada matriz pseudo-inversa de Moore-Penrose (ver [3]).\n",
    "\n",
    "##### Estimación de errores\n",
    "\n",
    "$\\newcommand{\\avrg}[1]{\\langle #1 \\rangle}$\n",
    "Una estimación de la varianza del $i$-ésimo parámetro $p_i$ debido a los errores experimentales en las mediciones de los valores $y_j$ viene dada por (ver [4])\n",
    "\n",
    "$$\\mathrm{Var}(p_i) = \\sigma^2 (F'F)^{-1}_{ii}$$\n",
    "\n",
    "donde\n",
    "\n",
    "$$\\sigma^2 = \\frac{1}{n-m}d(p)$$\n",
    "\n",
    "es un estimador de la varianza del ruido en los valores de los $y_j$. Luego, una estimación del error asociado al $i$-ésimo parámetro $p_i$ es la raíz cuadrada de dicha varianza, $\\sqrt{\\mathrm{Var}(p_i)}$.\n",
    "\n",
    "**Referencias**\n",
    "\n",
    "[1] https://www.youtube.com/watch?v=jezAWd6GFRg\n",
    "\n",
    "[2] https://math.stackexchange.com/questions/20694/vector-derivative-w-r-t-its-transpose-fracdaxdxt\n",
    "\n",
    "[3] https://en.wikipedia.org/wiki/Moore%E2%80%93Penrose_inverse\n",
    "\n",
    "[4] https://stats.stackexchange.com/questions/216335/standard-error-for-a-parameter-in-ordinary-least-squares"
   ]
  },
  {
   "cell_type": "markdown",
   "metadata": {},
   "source": [
    "**Ayuda:** Para cargar los datos, utilice los paquetes `CSV` y/o `DataFrames`, o utilice el código:"
   ]
  },
  {
   "cell_type": "code",
   "execution_count": null,
   "metadata": {},
   "outputs": [],
   "source": []
  },
  {
   "cell_type": "markdown",
   "metadata": {},
   "source": [
    "### Problema 5 : Ajuste no lineal\n",
    "\n",
    "1. Utilizando el paquete `LsqFit`, ajuste un conjunto de mediciones almacenadas en el archivo de texto llamado `decaimiento.txt` con la función \n",
    "$$\n",
    "F(t) = A \\exp\\bigg(-\\frac{t}{T}\\bigg)\n",
    "$$\n",
    "\n",
    "2. Determine los valores de $A$ y $T$ ajustados.\n",
    "\n",
    "3. Genere un gráfico que muestre tanto los datos medidos como la curva ajustada."
   ]
  },
  {
   "cell_type": "code",
   "execution_count": null,
   "metadata": {},
   "outputs": [],
   "source": []
  },
  {
   "cell_type": "markdown",
   "metadata": {},
   "source": [
    "## Ejemplos adicionales"
   ]
  },
  {
   "cell_type": "markdown",
   "metadata": {},
   "source": [
    "### Problema 6 \n",
    "\n",
    "El comportamiento de dos átomos ligados formando una molécula estable puede ser descripto en términos de las masas de los mismos, y una energía potencial $U(r)$ que depende de la distancia $r$ entre sus centros.\n",
    "A distancias cortas, los átomos se repelen.\n",
    "A distancias grandes, los átomos se atraen, manteniendo formada la molécula.\n",
    "El potencial de Lennard-Jones es un modelo de $U(r)$ frecuentemente utilizado, y se define por\n",
    "$$\n",
    "U(r) = U_0 \\bigg[ \\bigg( \\frac{r_0}{r} \\bigg)^{12} - 2\\bigg( \\frac{r_0}{r} \\bigg)^6  \\bigg]\n",
    "$$\n",
    "\n",
    "Los parámetros $r_0$ y $U_0$ están empíricamente determinados por la molécula en consideración.\n",
    "Distintas moléculas, requieren distintos valores de $r_0$ y $U_0$.\n",
    "Para $r>r_0$ la pendiente de $U(r)$ es positiva, la fuerza es atractiva. \n",
    "Para $r<r_0$, la pendiente es negativa y la fuerza es fuertemente repulsiva.\n",
    "Para $r=r_0$ la fuerza es nula (mínimo de la energía potencial) y por tanto la molécula está en equilibrio.\n",
    "\n",
    "1. Grafique el potencial de Lennard-Jones usando $r_0=1[\\mathring{A}]$ y $U_0=1[meV]$ para tener una idea de su forma.\n",
    "\n",
    "2. Se realizaron mediciones del potencial $U(r)$ de una moleculada dada, a distintas distancias $r$. Los resultados obtenidos son:\n",
    "\n",
    "    |$r$ [A] | $U(r)$ [meV] |\n",
    "    |------|------------|\n",
    "    |2.85  |  2.66542   |\n",
    "    |2.90  |  1.01110   |\n",
    "    |3.00  |  -1.07252  |\n",
    "    |3.10  |  -2.11419  |\n",
    "    |3.30  |  -2.67023  |\n",
    "    |3.70  |  -2.00824  |\n",
    "    |4.00  |  -1.41200  |\n",
    "    |4.50  |  -0.75629  |\n",
    "    |5.20  |  -0.32556  |\n",
    "    |6.00  |  -0.13291  |\n",
    "    |7.00  |  -0.04498  |\n",
    "    |8.00  |  -0.01276  |\n",
    "\n",
    "    donde $\\mathring{A}$ indica una unidad de Angstrom. Determine los valores de $U_0$ y $r_0$ ajustando los datos de la tabla. Grafique simultaneamente los datos y el ajuste.\n",
    "\n",
    "3. Considere la siguiente tabla e infiera que molécula fué medida\n",
    "\n",
    "|Molécula  |$U_0$ [meV] |  $r_0$ [A] |\n",
    "|----------|------|-----|\n",
    "|Hidrógeno | 2.68 | 3.3 |\n",
    "|Nitrógeno | 8.18 | 4.2 |\n",
    "|Oxígeno   |10.11 | 3.9 |"
   ]
  },
  {
   "cell_type": "code",
   "execution_count": null,
   "metadata": {},
   "outputs": [],
   "source": []
  },
  {
   "cell_type": "markdown",
   "metadata": {},
   "source": [
    "### Problema 7\n",
    "\n",
    "En este ejercicio aprenderá a leer los datos de un archivo similar el del ejercicio anterior, pero usando la librería `CSV.jl`. \n",
    "\n",
    "Ajuste los datos del archivo `math_pendulum.csv` con una función del tipo \n",
    "\n",
    "$$m(t,p) = p_1 + p_2\\cos(p_3t + p_4)$$\n",
    "\n",
    "1. Para ello, primero grafique los datos y obtenga parámetros aproximados a los fines de iniciar la búsqueda de los mejores parámetros.\n",
    "2. Realize el ajuste con la librería `LsqFit`.\n",
    "3. Grafique en un mismo gráfico los datos dados y la mejor aproximación."
   ]
  },
  {
   "cell_type": "markdown",
   "metadata": {},
   "source": [
    "**Ayuda:** para leer los datos use la siguiente expresión:"
   ]
  },
  {
   "cell_type": "code",
   "execution_count": null,
   "metadata": {},
   "outputs": [],
   "source": []
  }
 ],
 "metadata": {
  "@webio": {
   "lastCommId": null,
   "lastKernelId": null
  },
  "kernelspec": {
   "display_name": "Julia 1.10.0",
   "language": "julia",
   "name": "julia-1.10"
  },
  "language_info": {
   "file_extension": ".jl",
   "mimetype": "application/julia",
   "name": "julia",
   "version": "1.10.0"
  }
 },
 "nbformat": 4,
 "nbformat_minor": 4
}
